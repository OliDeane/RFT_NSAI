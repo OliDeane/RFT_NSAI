{
 "cells": [
  {
   "cell_type": "markdown",
   "metadata": {},
   "source": [
    "# Neuro-Symbolic AI\n",
    "\n",
    "## RFT Dataset\n",
    "\n",
    "### Contents\n",
    "\n",
    "- Generate Dataset\n",
    "- Perception Model\n",
    "- Semantic Parser\n",
    "- Program Executor\n"
   ]
  },
  {
   "cell_type": "code",
   "execution_count": 1,
   "metadata": {},
   "outputs": [],
   "source": [
    "import numpy as np\n",
    "import pandas as pd\n",
    "import matplotlib.pyplot as plt\n",
    "import random\n",
    "from tqdm import tqdm \n",
    "from img_utils import *\n",
    "from data_generator import *"
   ]
  },
  {
   "cell_type": "code",
   "execution_count": 2,
   "metadata": {},
   "outputs": [],
   "source": [
    "# Generate the dataset\n",
    "\n",
    "# Dataset params\n",
    "img_size = 224 # Size of image\n",
    "object_size = 15 # the object size\n",
    "colors = [\n",
    "    (0,0,255), # red\n",
    "    (0,255,0), # green\n",
    "    (255,0,0), # blue\n",
    "    (0,156,255), # orange\n",
    "    (128,128,128), # gray \n",
    "    (0,255,255) # yellow\n",
    "]"
   ]
  },
  {
   "cell_type": "code",
   "execution_count": 3,
   "metadata": {},
   "outputs": [
    {
     "name": "stderr",
     "output_type": "stream",
     "text": [
      "100%|██████████| 20/20 [00:00<00:00, 28.57it/s]\n"
     ]
    }
   ],
   "source": [
    "n_train_imgs = 100\n",
    "build_dataset(n_train_imgs, img_size, colors, object_size,  data_dir='data/train', prefix='train') "
   ]
  },
  {
   "cell_type": "code",
   "execution_count": 6,
   "metadata": {},
   "outputs": [
    {
     "name": "stderr",
     "output_type": "stream",
     "text": [
      "100%|██████████| 100/100 [00:03<00:00, 30.47it/s]\n",
      "100%|██████████| 10/10 [00:00<00:00, 17.96it/s]\n"
     ]
    }
   ],
   "source": [
    "n_train_imgs = 100\n",
    "n_test_imgs = 10\n",
    "\n",
    "build_dataset(n_train_imgs, img_size, colors, object_size, data_dir='data/train', prefix='train')\n",
    "build_dataset(n_test_imgs, img_size, colors, object_size, data_dir='data/test', prefix='test')"
   ]
  },
  {
   "cell_type": "code",
   "execution_count": null,
   "metadata": {},
   "outputs": [],
   "source": []
  }
 ],
 "metadata": {
  "interpreter": {
   "hash": "584e64d791e059b51eb4f8b025bc77b5e4b36bec6872b60b56cee14078c0c808"
  },
  "kernelspec": {
   "display_name": "Python 3.9.7 ('PytorchEnv')",
   "language": "python",
   "name": "python3"
  },
  "language_info": {
   "codemirror_mode": {
    "name": "ipython",
    "version": 3
   },
   "file_extension": ".py",
   "mimetype": "text/x-python",
   "name": "python",
   "nbconvert_exporter": "python",
   "pygments_lexer": "ipython3",
   "version": "3.10.0"
  },
  "orig_nbformat": 4
 },
 "nbformat": 4,
 "nbformat_minor": 2
}
