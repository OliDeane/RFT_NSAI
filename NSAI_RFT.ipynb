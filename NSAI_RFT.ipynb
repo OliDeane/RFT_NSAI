{
 "cells": [
  {
   "cell_type": "markdown",
   "metadata": {},
   "source": [
    "# Neuro-Symbolic AI\n",
    "\n",
    "## RFT Dataset\n",
    "\n",
    "### Contents\n",
    "\n",
    "- Generate Dataset\n",
    "- Perception Model\n",
    "- Semantic Parser\n",
    "- Program Executor\n"
   ]
  },
  {
   "cell_type": "code",
   "execution_count": 8,
   "metadata": {},
   "outputs": [],
   "source": [
    "import numpy as np\n",
    "import pandas as pd\n",
    "import matplotlib.pyplot as plt\n",
    "import random\n",
    "import os\n",
    "import cv2\n",
    "from tqdm import tqdm \n",
    "from img_utils import *\n",
    "from data_generator import *"
   ]
  },
  {
   "cell_type": "code",
   "execution_count": 2,
   "metadata": {},
   "outputs": [],
   "source": [
    "# comaprison to NS-VQA sample\n",
    "(img, objects, relations, norelations) = build_sample()"
   ]
  },
  {
   "cell_type": "code",
   "execution_count": 3,
   "metadata": {},
   "outputs": [],
   "source": [
    "# Generate the dataset\n",
    "\n",
    "# Dataset params\n",
    "img_size = 224\n",
    "size = 15 # the object size?\n",
    "question_size = 10 # 6 for one-hot vector of color, 1 for question type, 3 for question subtype\n",
    "q_type_idx = 6 # type of question\n",
    "sub_q_type_idx = 7 # \n",
    "nb_questions = 10 # questions per image. \n",
    "\n",
    "# Possibles Answers : [yes, no, rectangle, circle, 1, 2, 3, 4, 5, 6]\n",
    "\n",
    "colors = [\n",
    "    (0,0,255), # red\n",
    "    (0,255,0), # green\n",
    "    (255,0,0), # blue\n",
    "    (0,156,255), # orange\n",
    "    (128,128,128), # gray (128,128,128)- not working, replaced with black\n",
    "    (0,255,255) # yellow - appears same as orange\n",
    "]"
   ]
  },
  {
   "cell_type": "markdown",
   "metadata": {},
   "source": [
    "# RFT Same-Different Data Generator"
   ]
  },
  {
   "cell_type": "code",
   "execution_count": 14,
   "metadata": {},
   "outputs": [],
   "source": [
    "\n",
    "def build_sample():#colors, img_size, object_size):\n",
    "    # choose two random colors\n",
    "# for i in range(16):\n",
    "    color1 = ()\n",
    "    color2 = ()\n",
    "    while color1 == color2:\n",
    "        color1 = colors[random.randint(0,5)]\n",
    "        color2 = colors[random.randint(0,5)]\n",
    "\n",
    "    color1_id = colors.index(color1)\n",
    "    color2_id = colors.index(color2)\n",
    "    \n",
    "    positions = [([25,25],[65,25]),([25,175],[65,175]),([160,25],[200,25]), ([160,175],[200,175])]\n",
    "    random.shuffle(positions)\n",
    "\n",
    "    objects = []\n",
    "\n",
    "    img = np.ones((img_size,img_size,3)) * 255\n",
    "\n",
    "    img, objects = draw_sCsS(img, positions, color1, color1_id, objects, size = object_size)\n",
    "    img, objects = draw_sCdS(img, positions, color2, color2_id, objects, size = object_size)\n",
    "    img, objects = draw_dCsS(img, positions, color1, color2, color1_id, color2_id, objects, size = object_size)\n",
    "    img, objects = draw_dCdS(img, positions, color1, color2, color1_id, color2_id, objects, size = object_size)\n",
    "\n",
    "    img = (img).astype('uint8')\n",
    "    img = cv2.cvtColor(img, cv2.COLOR_BGR2RGB)\n",
    "\n",
    "    return (img, objects)\n"
   ]
  },
  {
   "cell_type": "code",
   "execution_count": 18,
   "metadata": {},
   "outputs": [
    {
     "data": {
      "text/plain": [
       "<matplotlib.image.AxesImage at 0x7f95b3760280>"
      ]
     },
     "execution_count": 18,
     "metadata": {},
     "output_type": "execute_result"
    },
    {
     "data": {
      "image/png": "[encoded data removed]",
      "text/plain": [
       "<Figure size 432x288 with 1 Axes>"
      ]
     },
     "metadata": {
      "needs_background": "light"
     },
     "output_type": "display_data"
    }
   ],
   "source": [
    "sample = build_sample()\n",
    "plt.imshow(sample[0])"
   ]
  },
  {
   "cell_type": "code",
   "execution_count": null,
   "metadata": {},
   "outputs": [],
   "source": [
    "# img_det_df = pd.DataFrame(columns=['filename', 'width', 'height', 'class', 'xmin', 'ymin', 'xmax', 'ymax'])\n",
    "# shape_map = {'r': 'rectangle', 'c': 'circle'}\n",
    "# for obj in objects:\n",
    "#   color_id, shape, bbox = obj[0], shape_map[obj[2]], obj[3]\n",
    "#   print(color_id, shape, bbox)"
   ]
  },
  {
   "cell_type": "code",
   "execution_count": 19,
   "metadata": {},
   "outputs": [],
   "source": [
    "# build_img_dataset with params colors, img_size, size\n",
    "\n",
    "def make_directories(data_dir, img_dir):\n",
    "    try:\n",
    "        os.makedirs(data_dir)\n",
    "    except:\n",
    "        pass\n",
    "    \n",
    "    try:\n",
    "        os.makedirs(img_dir)\n",
    "    except:\n",
    "        pass\n",
    "\n",
    "def build_dataset(num_samples, data_dir, prefix='train'):\n",
    "    \n",
    "    samples = [build_sample() for _ in range(num_samples)]\n",
    "\n",
    "        \n",
    "    # Init dataframes\n",
    "    img_det_df = pd.DataFrame(columns=['filename', 'width', 'height', 'class', 'xmin', 'ymin', 'xmax', 'ymax'])\n",
    "    que2prog_df = pd.DataFrame(columns=['filename', 'answer', 'query_text', 'program_text'])\n",
    "    \n",
    "    img_dir = os.path.join(data_dir, 'images')\n",
    "    shape_map = {'r': 'rectangle', 'c': 'circle'}\n",
    "\n",
    "    # generate data and image directories\n",
    "    make_directories(data_dir, img_dir)\n",
    "\n",
    "    for i, sample in enumerate(tqdm(samples)):\n",
    "        img, objects = sample\n",
    "\n",
    "        #save img\n",
    "        filename = f'{i}.jpg'\n",
    "        img_path = os.path.join(img_dir, filename)\n",
    "        cv2.imwrite(img_path, img)\n",
    "\n",
    "        # Append the image data to dataframes\n",
    "        for obj in objects:\n",
    "            color_id, shape, bbox = obj[0], shape_map[obj[2]], obj[3]\n",
    "            \n",
    "            img_det_df = img_det_df.append({'filename': filename, \n",
    "                                            'width': img_size, \n",
    "                                            'height': img_size, \n",
    "                                            'class': 'obj', \n",
    "                                            'xmin': bbox[0], 'ymin': bbox[1],\n",
    "                                            'xmax': bbox[2], 'ymax': bbox[3]}, ignore_index=True)\n",
    "            \n",
    "            # Do the same for the text data (ignore for now)\n",
    "                    # Append text data to dataframe\n",
    "\n",
    "    img_det_df.to_csv(os.path.join(data_dir, f'{prefix}_img_det.csv'), index=False)\n",
    "    "
   ]
  },
  {
   "cell_type": "code",
   "execution_count": 20,
   "metadata": {},
   "outputs": [],
   "source": [
    "n_train_imgs = 50\n",
    "build_dataset(n_train_imgs, data_dir='data/train', prefix='train') # only vision stuff for now"
   ]
  },
  {
   "cell_type": "markdown",
   "metadata": {},
   "source": [
    "# Biuld Questions"
   ]
  },
  {
   "cell_type": "code",
   "execution_count": 13,
   "metadata": {},
   "outputs": [],
   "source": [
    "def fill_q_template(idx):\n",
    "    question_types = [['the same color', 'the same shape'],['the same color','a different shape'],\\\n",
    "        ['a different color','the same shape'], ['a different color','a different shape']]\n",
    "    \n",
    "    order = [0,1]\n",
    "    random.shuffle(order)\n",
    "    return f'Which pair is {question_types[idx][order[0]]} and {question_types[idx][order[1]]}?'\n"
   ]
  },
  {
   "cell_type": "code",
   "execution_count": 14,
   "metadata": {},
   "outputs": [
    {
     "data": {
      "text/plain": [
       "['Which pair is the same shape and a different color?',\n",
       " 'Which pair is a different shape and the same color?',\n",
       " 'Which pair is the same color and the same shape?',\n",
       " 'Which pair is a different color and a different shape?']"
      ]
     },
     "execution_count": 14,
     "metadata": {},
     "output_type": "execute_result"
    }
   ],
   "source": [
    "questions = [fill_q_template(i) for i in [0,1,2,3]]\n",
    "random.shuffle(questions)\n",
    "questions"
   ]
  },
  {
   "cell_type": "code",
   "execution_count": null,
   "metadata": {},
   "outputs": [],
   "source": [
    "# Generate training dataset\n",
    "# programs\n"
   ]
  }
 ],
 "metadata": {
  "interpreter": {
   "hash": "584e64d791e059b51eb4f8b025bc77b5e4b36bec6872b60b56cee14078c0c808"
  },
  "kernelspec": {
   "display_name": "Python 3.9.7 ('PytorchEnv')",
   "language": "python",
   "name": "python3"
  },
  "language_info": {
   "codemirror_mode": {
    "name": "ipython",
    "version": 3
   },
   "file_extension": ".py",
   "mimetype": "text/x-python",
   "name": "python",
   "nbconvert_exporter": "python",
   "pygments_lexer": "ipython3",
   "version": "3.10.0"
  },
  "orig_nbformat": 4
 },
 "nbformat": 4,
 "nbformat_minor": 2
}
