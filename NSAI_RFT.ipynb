{
 "cells": [
  {
   "cell_type": "markdown",
   "metadata": {},
   "source": [
    "# Neuro-Symbolic AI\n",
    "\n",
    "## RFT Dataset\n",
    "\n",
    "### Contents\n",
    "\n",
    "- Generate Dataset\n",
    "- Perception Model\n",
    "- Semantic Parser\n",
    "- Program Executor\n"
   ]
  },
  {
   "cell_type": "code",
   "execution_count": 1,
   "metadata": {},
   "outputs": [],
   "source": [
    "import numpy as np\n",
    "import pandas as pd\n",
    "import matplotlib.pyplot as plt\n",
    "import random\n",
    "import os\n",
    "import cv2\n",
    "from tqdm import tqdm \n",
    "from img_utils import *\n",
    "from data_generator import *"
   ]
  },
  {
   "cell_type": "code",
   "execution_count": 2,
   "metadata": {},
   "outputs": [],
   "source": [
    "# Generate the dataset\n",
    "\n",
    "# Dataset params\n",
    "img_size = 224\n",
    "object_size = 15 # the object size?\n",
    "question_size = 10 # 6 for one-hot vector of color, 1 for question type, 3 for question subtype\n",
    "q_type_idx = 6 # type of question\n",
    "sub_q_type_idx = 7 # \n",
    "nb_questions = 10 # questions per image. \n",
    "\n",
    "# Possibles Answers : [yes, no, rectangle, circle, 1, 2, 3, 4, 5, 6]\n",
    "\n",
    "colors = [\n",
    "    (0,0,255), # red\n",
    "    (0,255,0), # green\n",
    "    (255,0,0), # blue\n",
    "    (0,156,255), # orange\n",
    "    (128,128,128), # gray (128,128,128)- not working, replaced with black\n",
    "    (0,255,255) # yellow - appears same as orange\n",
    "]"
   ]
  },
  {
   "cell_type": "code",
   "execution_count": 3,
   "metadata": {},
   "outputs": [
    {
     "name": "stderr",
     "output_type": "stream",
     "text": [
      "100%|██████████| 20/20 [00:00<00:00, 28.57it/s]\n"
     ]
    }
   ],
   "source": [
    "n_train_imgs = 20\n",
    "build_dataset(n_train_imgs, img_size, colors, object_size,  data_dir='data/train', prefix='train') "
   ]
  },
  {
   "cell_type": "markdown",
   "metadata": {},
   "source": [
    "# RFT Same-Different Data Generator"
   ]
  },
  {
   "cell_type": "code",
   "execution_count": 86,
   "metadata": {},
   "outputs": [],
   "source": [
    "\n",
    "def build_sample():#colors, img_size, object_size):\n",
    "    # choose two random colors\n",
    "# for i in range(16):\n",
    "    color1 = ()\n",
    "    color2 = ()\n",
    "    while color1 == color2:\n",
    "        color1 = colors[random.randint(0,5)]\n",
    "        color2 = colors[random.randint(0,5)]\n",
    "\n",
    "    color1_id = colors.index(color1)\n",
    "    color2_id = colors.index(color2)\n",
    "    \n",
    "    # get quesiton type and coordinates for each condition\n",
    "    positions = [([25,25],[65,25]),([160,25],[200,25]), ([25,175],[65,175]), ([160,175],[200,175])]\n",
    "    question_type = [0,1,2,3]\n",
    "\n",
    "    zipped_list = list(zip(positions, question_type))\n",
    "    random.shuffle(zipped_list)\n",
    "    positions, question_type = zip(*zipped_list)\n",
    "\n",
    "    objects = []\n",
    "\n",
    "    img = np.ones((img_size,img_size,3)) * 255\n",
    "\n",
    "    img, objects = draw_sCsS(img, positions, color1, color1_id, objects, size = object_size)\n",
    "    img, objects = draw_sCdS(img, positions, color2, color2_id, objects, size = object_size)\n",
    "    img, objects = draw_dCsS(img, positions, color1, color2, color1_id, color2_id, objects, size = object_size)\n",
    "    img, objects = draw_dCdS(img, positions, color1, color2, color1_id, color2_id, objects, size = object_size)\n",
    "\n",
    "    img = (img).astype('uint8')\n",
    "    img = cv2.cvtColor(img, cv2.COLOR_BGR2RGB)\n",
    "\n",
    "    return (img, objects, list(question_type))\n"
   ]
  },
  {
   "cell_type": "code",
   "execution_count": 108,
   "metadata": {},
   "outputs": [],
   "source": [
    "# build_img_dataset with params colors, img_size, size\n",
    "\n",
    "def make_directories(data_dir, img_dir):\n",
    "    try:\n",
    "        os.makedirs(data_dir)\n",
    "    except:\n",
    "        pass\n",
    "    \n",
    "    try:\n",
    "        os.makedirs(img_dir)\n",
    "    except:\n",
    "        pass\n",
    "\n",
    "def build_dataset(num_samples, data_dir, prefix='train'):\n",
    "    \n",
    "    samples = [build_sample() for _ in range(num_samples)]\n",
    "\n",
    "        \n",
    "    # Init dataframes\n",
    "    img_det_df = pd.DataFrame(columns=['filename', 'width', 'height', 'class', 'xmin', 'ymin', 'xmax', 'ymax'])\n",
    "    que2prog_df = pd.DataFrame(columns=['filename', 'answer', 'query_text', 'program_text']) \n",
    "    \n",
    "    img_dir = os.path.join(data_dir, 'images')\n",
    "    shape_map = {'r': 'rectangle', 'c': 'circle'}\n",
    "\n",
    "    # generate data and image directories\n",
    "    make_directories(data_dir, img_dir)\n",
    "\n",
    "    for i, sample in enumerate(tqdm(samples)):\n",
    "        img, objects, question_type = sample\n",
    "\n",
    "        #save img\n",
    "        filename = f'{i}.jpg'\n",
    "        img_path = os.path.join(img_dir, filename)\n",
    "        cv2.imwrite(img_path, img)\n",
    "\n",
    "        # Append the image data to dataframes\n",
    "        for obj in objects:\n",
    "            color_id, shape, bbox = obj[0], shape_map[obj[2]], obj[3]\n",
    "            \n",
    "            img_det_df = img_det_df.append({'filename': filename, \n",
    "                                            'width': img_size, \n",
    "                                            'height': img_size, \n",
    "                                            'class': 'obj', \n",
    "                                            'xmin': bbox[0], 'ymin': bbox[1],\n",
    "                                            'xmax': bbox[2], 'ymax': bbox[3]}, ignore_index=True)\n",
    "            \n",
    "        # Do the same for the text data\n",
    "        question_texts, programs, answers = build_question(question_type)\n",
    "\n",
    "        for que, prog, ans in list(zip(question_texts, programs, answers)):\n",
    "            que2prog_df = que2prog_df.append({'filename': filename, \n",
    "                                    'answer': ans, \n",
    "                                    'query_text': que, \n",
    "                                    'program_text': prog}, ignore_index=True)\n",
    "\n",
    "    img_det_df.to_csv(os.path.join(data_dir, f'{prefix}_img_det.csv'), index=False)\n",
    "    que2prog_df.to_csv(os.path.join(data_dir, f'{prefix}_que2prog.csv'), index=False)\n"
   ]
  },
  {
   "cell_type": "code",
   "execution_count": 41,
   "metadata": {},
   "outputs": [],
   "source": [
    "def shuffle_3_lists(lst_1, lst_2, lst_3):\n",
    "    zipped_list = list(zip(lst_1, lst_2, lst_3))\n",
    "    random.shuffle(zipped_list)\n",
    "    lst_1, lst_2, lst_3 = zip(*zipped_list)\n",
    "\n",
    "    return lst_1, lst_2, lst_3\n"
   ]
  },
  {
   "cell_type": "code",
   "execution_count": 109,
   "metadata": {},
   "outputs": [
    {
     "name": "stderr",
     "output_type": "stream",
     "text": [
      "100%|██████████| 20/20 [00:00<00:00, 29.83it/s]\n"
     ]
    }
   ],
   "source": []
  },
  {
   "cell_type": "code",
   "execution_count": 97,
   "metadata": {},
   "outputs": [],
   "source": [
    "# Generate questions for training dataset\n",
    "def build_question(question_type):\n",
    "\n",
    "    # question_type = [0,1,2,3] # shuffle positions with question_type\n",
    "    # random.shuffle(question_type)\n",
    "\n",
    "    order_type = [0,0,1,1]\n",
    "    random.shuffle(order_type)\n",
    "\n",
    "    raw_questions = list(zip(question_type, order_type))\n",
    "\n",
    "    question_texts = []\n",
    "    programs = []\n",
    "    answers = []\n",
    "    question_code_strings = ['sCsS', 'sCdS', 'dCsS', 'dCdS']\n",
    "    ans_dict = {i:j for i,j in list(zip(question_code_strings, question_type))}\n",
    "\n",
    "    question_text_types = [['the same color', 'the same shape', 'sCsS'],['the same color','a different shape', 'sCdS'],\\\n",
    "            ['a different color','the same shape', 'dCsS'], ['a different color','a different shape','dCdS']]\n",
    "\n",
    "    for q_type,o_type in raw_questions:\n",
    "\n",
    "        order = [0,1] if o_type == 0 else [1,0]\n",
    "        \n",
    "        question_texts.append(f'Which pair is {question_text_types[q_type][order[0]]} and {question_text_types[q_type][order[1]]}?')\n",
    "\n",
    "        # Add to the programs\n",
    "        text_type1 = question_text_types[q_type][order[0]]\n",
    "        text_type2 = question_text_types[q_type][order[1]]\n",
    "        answers.append(ans_dict[question_text_types[q_type][2]])\n",
    "\n",
    "        program = f'generate pair <nxt>\\\n",
    "    filter {text_type1.split()[-2:][0]}_{text_type1.split()[-2:][1]} <nxt>\\\n",
    "    filter {text_type2.split()[-2:][0]}_{text_type2.split()[-2:][1]} <nxt>\\\n",
    "    query pair'\n",
    "        \n",
    "        programs.append(program)\n",
    "    \n",
    "    return (question_texts, programs, answers)"
   ]
  },
  {
   "cell_type": "code",
   "execution_count": 94,
   "metadata": {},
   "outputs": [
    {
     "data": {
      "text/plain": [
       "{'sCsS': 1, 'sCdS': 3, 'dCsS': 2, 'dCdS': 0}"
      ]
     },
     "execution_count": 94,
     "metadata": {},
     "output_type": "execute_result"
    }
   ],
   "source": [
    "question_code_strings = ['sCsS', 'sCdS', 'dCsS', 'dCdS']\n",
    "ans_dict = {i:j for i,j in list(zip(question_code_strings, question_type))}\n",
    "ans_dict"
   ]
  },
  {
   "cell_type": "code",
   "execution_count": null,
   "metadata": {},
   "outputs": [],
   "source": []
  }
 ],
 "metadata": {
  "interpreter": {
   "hash": "584e64d791e059b51eb4f8b025bc77b5e4b36bec6872b60b56cee14078c0c808"
  },
  "kernelspec": {
   "display_name": "Python 3.9.7 ('PytorchEnv')",
   "language": "python",
   "name": "python3"
  },
  "language_info": {
   "codemirror_mode": {
    "name": "ipython",
    "version": 3
   },
   "file_extension": ".py",
   "mimetype": "text/x-python",
   "name": "python",
   "nbconvert_exporter": "python",
   "pygments_lexer": "ipython3",
   "version": "3.10.0"
  },
  "orig_nbformat": 4
 },
 "nbformat": 4,
 "nbformat_minor": 2
}
