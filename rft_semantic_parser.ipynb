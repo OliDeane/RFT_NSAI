{
 "cells": [
  {
   "cell_type": "code",
   "execution_count": 2,
   "metadata": {},
   "outputs": [],
   "source": [
    "import pandas as pd\n",
    "import numpy as np\n",
    "import random\n",
    "import torch"
   ]
  },
  {
   "cell_type": "code",
   "execution_count": 24,
   "metadata": {},
   "outputs": [
    {
     "data": {
      "text/plain": [
       "' We only predict program text - the answer is not relevant for now'"
      ]
     },
     "execution_count": 24,
     "metadata": {},
     "output_type": "execute_result"
    }
   ],
   "source": [
    "\"\"\" We only predict program text - the answer is not relevant for now\"\"\""
   ]
  },
  {
   "cell_type": "code",
   "execution_count": 132,
   "metadata": {},
   "outputs": [],
   "source": [
    "# generate question type, question sub-type (word order), question text, and program\n",
    "\n",
    "def build_question():\n",
    "\n",
    "    question_type = [0,1,2,3] # shuffle positions with question_type\n",
    "    random.shuffle(question_type)\n",
    "\n",
    "    order_type = [0,0,1,1]\n",
    "    random.shuffle(order_type)\n",
    "\n",
    "    raw_questions = list(zip(question_type, order_type))\n",
    "\n",
    "    question_texts = []\n",
    "    programs = []\n",
    "\n",
    "    question_text_types = [['the same color', 'the same shape'],['the same color','a different shape'],\\\n",
    "            ['a different color','the same shape'], ['a different color','a different shape']]\n",
    "\n",
    "    for q_type,o_type in raw_questions:\n",
    "\n",
    "        order = [0,1] if o_type == 0 else [1,0]\n",
    "        \n",
    "        question_texts.append(f'Which pair is {question_text_types[q_type][order[0]]} and {question_text_types[q_type][order[1]]}?')\n",
    "        \n",
    "        # Add to the programs\n",
    "        text_type1 = question_text_types[q_type][order[0]]\n",
    "        text_type2 = question_text_types[q_type][order[1]]\n",
    "\n",
    "        program = f'generate pair <nxt>\\\n",
    "    filter {text_type1.split()[-2:][0]}_{text_type1.split()[-2:][1]} <nxt>\\\n",
    "    filter {text_type2.split()[-2:][0]}_{text_type2.split()[-2:][1]} <nxt>\\\n",
    "    query pair'\n",
    "        \n",
    "        programs.append(program)\n",
    "    \n",
    "    return question_texts, programs, question_type\n",
    "\n",
    "# answers will be relevant to the positions.shuffle in the build sample file \n",
    "\n",
    "# _ ,_ , query_text, program_text = zip(question_type, order_type, question_texts, programs)"
   ]
  },
  {
   "cell_type": "code",
   "execution_count": 100,
   "metadata": {},
   "outputs": [
    {
     "data": {
      "text/html": [
       "<div>\n",
       "<style scoped>\n",
       "    .dataframe tbody tr th:only-of-type {\n",
       "        vertical-align: middle;\n",
       "    }\n",
       "\n",
       "    .dataframe tbody tr th {\n",
       "        vertical-align: top;\n",
       "    }\n",
       "\n",
       "    .dataframe thead th {\n",
       "        text-align: right;\n",
       "    }\n",
       "</style>\n",
       "<table border=\"1\" class=\"dataframe\">\n",
       "  <thead>\n",
       "    <tr style=\"text-align: right;\">\n",
       "      <th></th>\n",
       "      <th>query_text</th>\n",
       "      <th>program_text</th>\n",
       "    </tr>\n",
       "  </thead>\n",
       "  <tbody>\n",
       "    <tr>\n",
       "      <th>0</th>\n",
       "      <td>Which pair is the same shape and a different c...</td>\n",
       "      <td>generate pair &lt;nxt&gt; filter same_shape &lt;nxt&gt; fi...</td>\n",
       "    </tr>\n",
       "    <tr>\n",
       "      <th>1</th>\n",
       "      <td>Which pair is the same shape and the same color?</td>\n",
       "      <td>generate pair &lt;nxt&gt; filter same_shape &lt;nxt&gt; fi...</td>\n",
       "    </tr>\n",
       "    <tr>\n",
       "      <th>2</th>\n",
       "      <td>Which pair is a different color and a differen...</td>\n",
       "      <td>generate pair &lt;nxt&gt; filter different_color &lt;nx...</td>\n",
       "    </tr>\n",
       "    <tr>\n",
       "      <th>3</th>\n",
       "      <td>Which pair is the same color and a different s...</td>\n",
       "      <td>generate pair &lt;nxt&gt; filter same_color &lt;nxt&gt; fi...</td>\n",
       "    </tr>\n",
       "  </tbody>\n",
       "</table>\n",
       "</div>"
      ],
      "text/plain": [
       "                                          query_text  \\\n",
       "0  Which pair is the same shape and a different c...   \n",
       "1   Which pair is the same shape and the same color?   \n",
       "2  Which pair is a different color and a differen...   \n",
       "3  Which pair is the same color and a different s...   \n",
       "\n",
       "                                        program_text  \n",
       "0  generate pair <nxt> filter same_shape <nxt> fi...  \n",
       "1  generate pair <nxt> filter same_shape <nxt> fi...  \n",
       "2  generate pair <nxt> filter different_color <nx...  \n",
       "3  generate pair <nxt> filter same_color <nxt> fi...  "
      ]
     },
     "execution_count": 100,
     "metadata": {},
     "output_type": "execute_result"
    }
   ],
   "source": [
    "q2p_dict = {'query_text': question_texts, 'program_text': programs}\n",
    "q2p_df = pd.DataFrame(data = q2p_dict)\n",
    "q2p_df.head(10)"
   ]
  },
  {
   "cell_type": "code",
   "execution_count": null,
   "metadata": {},
   "outputs": [],
   "source": [
    "# # Generate query text\n",
    "# def fill_q_template(idx):\n",
    "#     question_types = [['the same color', 'the same shape'],['the same color','a different shape'],\\\n",
    "#         ['a different color','the same shape'], ['a different color','a different shape']]\n",
    "    \n",
    "#     order = [0,1]\n",
    "#     random.shuffle(order)\n",
    "#     sub_type = order[0]\n",
    "#     return f'Which pair is {question_types[idx][order[0]]} and {question_types[idx][order[1]]}?'\n"
   ]
  },
  {
   "cell_type": "code",
   "execution_count": 133,
   "metadata": {},
   "outputs": [],
   "source": [
    "num_samples = 10\n",
    "query_set = {'filename': [], 'answer':[], 'query_text': [],'program_text': []}\n",
    "\n",
    "for img_number in range(num_samples):\n",
    "\n",
    "    # generate filename\n",
    "    filename = f'{img_number}.jpg'\n",
    "    \n",
    "    # generate the foure questions\n",
    "    question_texts, programs, answers = build_question()\n",
    "    \n",
    "    query_set['filename'] = query_set['filename'] + [filename]*4\n",
    "    query_set['answer'] = query_set['answer'] + answers\n",
    "    query_set['query_text'] = query_set['query_text'] + question_texts\n",
    "    query_set['program_text'] = query_set['program_text'] + programs\n",
    "\n",
    "query_set_df = pd.DataFrame(data=query_set)"
   ]
  },
  {
   "cell_type": "code",
   "execution_count": 134,
   "metadata": {},
   "outputs": [
    {
     "data": {
      "text/html": [
       "<div>\n",
       "<style scoped>\n",
       "    .dataframe tbody tr th:only-of-type {\n",
       "        vertical-align: middle;\n",
       "    }\n",
       "\n",
       "    .dataframe tbody tr th {\n",
       "        vertical-align: top;\n",
       "    }\n",
       "\n",
       "    .dataframe thead th {\n",
       "        text-align: right;\n",
       "    }\n",
       "</style>\n",
       "<table border=\"1\" class=\"dataframe\">\n",
       "  <thead>\n",
       "    <tr style=\"text-align: right;\">\n",
       "      <th></th>\n",
       "      <th>filename</th>\n",
       "      <th>answer</th>\n",
       "      <th>query_text</th>\n",
       "      <th>program_text</th>\n",
       "    </tr>\n",
       "  </thead>\n",
       "  <tbody>\n",
       "    <tr>\n",
       "      <th>0</th>\n",
       "      <td>0.jpg</td>\n",
       "      <td>3</td>\n",
       "      <td>Which pair is a different shape and a differen...</td>\n",
       "      <td>generate pair &lt;nxt&gt;    filter different_shape ...</td>\n",
       "    </tr>\n",
       "    <tr>\n",
       "      <th>1</th>\n",
       "      <td>0.jpg</td>\n",
       "      <td>1</td>\n",
       "      <td>Which pair is the same color and a different s...</td>\n",
       "      <td>generate pair &lt;nxt&gt;    filter same_color &lt;nxt&gt;...</td>\n",
       "    </tr>\n",
       "    <tr>\n",
       "      <th>2</th>\n",
       "      <td>0.jpg</td>\n",
       "      <td>2</td>\n",
       "      <td>Which pair is a different color and the same s...</td>\n",
       "      <td>generate pair &lt;nxt&gt;    filter different_color ...</td>\n",
       "    </tr>\n",
       "    <tr>\n",
       "      <th>3</th>\n",
       "      <td>0.jpg</td>\n",
       "      <td>0</td>\n",
       "      <td>Which pair is the same shape and the same color?</td>\n",
       "      <td>generate pair &lt;nxt&gt;    filter same_shape &lt;nxt&gt;...</td>\n",
       "    </tr>\n",
       "    <tr>\n",
       "      <th>4</th>\n",
       "      <td>1.jpg</td>\n",
       "      <td>1</td>\n",
       "      <td>Which pair is the same color and a different s...</td>\n",
       "      <td>generate pair &lt;nxt&gt;    filter same_color &lt;nxt&gt;...</td>\n",
       "    </tr>\n",
       "  </tbody>\n",
       "</table>\n",
       "</div>"
      ],
      "text/plain": [
       "  filename  answer                                         query_text  \\\n",
       "0    0.jpg       3  Which pair is a different shape and a differen...   \n",
       "1    0.jpg       1  Which pair is the same color and a different s...   \n",
       "2    0.jpg       2  Which pair is a different color and the same s...   \n",
       "3    0.jpg       0   Which pair is the same shape and the same color?   \n",
       "4    1.jpg       1  Which pair is the same color and a different s...   \n",
       "\n",
       "                                        program_text  \n",
       "0  generate pair <nxt>    filter different_shape ...  \n",
       "1  generate pair <nxt>    filter same_color <nxt>...  \n",
       "2  generate pair <nxt>    filter different_color ...  \n",
       "3  generate pair <nxt>    filter same_shape <nxt>...  \n",
       "4  generate pair <nxt>    filter same_color <nxt>...  "
      ]
     },
     "execution_count": 134,
     "metadata": {},
     "output_type": "execute_result"
    }
   ],
   "source": [
    "query_set_df.head()"
   ]
  },
  {
   "cell_type": "code",
   "execution_count": 122,
   "metadata": {},
   "outputs": [
    {
     "data": {
      "text/plain": [
       "4"
      ]
     },
     "execution_count": 122,
     "metadata": {},
     "output_type": "execute_result"
    }
   ],
   "source": []
  },
  {
   "cell_type": "code",
   "execution_count": null,
   "metadata": {},
   "outputs": [],
   "source": []
  }
 ],
 "metadata": {
  "interpreter": {
   "hash": "1e8aee051e696617c689574faeab95fa27d89387237153c0e201e7945bab342c"
  },
  "kernelspec": {
   "display_name": "Python 3.10.0 ('NSAI_env')",
   "language": "python",
   "name": "python3"
  },
  "language_info": {
   "codemirror_mode": {
    "name": "ipython",
    "version": 3
   },
   "file_extension": ".py",
   "mimetype": "text/x-python",
   "name": "python",
   "nbconvert_exporter": "python",
   "pygments_lexer": "ipython3",
   "version": "3.9.7"
  },
  "orig_nbformat": 4
 },
 "nbformat": 4,
 "nbformat_minor": 2
}
