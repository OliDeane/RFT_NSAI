{
 "cells": [
  {
   "cell_type": "code",
   "execution_count": 1,
   "metadata": {},
   "outputs": [],
   "source": [
    "import pandas as pd\n",
    "import numpy as np\n",
    "import os \n",
    "from tqdm import tqdm\n",
    "from program_executor import *"
   ]
  },
  {
   "cell_type": "code",
   "execution_count": 2,
   "metadata": {},
   "outputs": [],
   "source": [
    "# create fake program and scene\n",
    "program = ['generate pair',\n",
    " '    filter same_shape',\n",
    " '    filter different_color',\n",
    " '    query pair']\n",
    "# program = [i.lstrip() for i in program]\n",
    "\n",
    "\n",
    "scene = pd.read_csv('scene.csv')\n",
    "del scene['Unnamed: 0']\n",
    "\n",
    "# change positions to tuples\n",
    "scene['position'] = [(23, 24),\n",
    "(199, 24),\n",
    "(159, 24),\n",
    "(199, 176),\n",
    "(63, 24),\n",
    "(23, 176),\n",
    "(63, 176),\n",
    "(159, 176)]\n"
   ]
  },
  {
   "cell_type": "code",
   "execution_count": 3,
   "metadata": {},
   "outputs": [],
   "source": [
    "executor = ProgramExecutor()"
   ]
  },
  {
   "cell_type": "code",
   "execution_count": 4,
   "metadata": {},
   "outputs": [
    {
     "name": "stdout",
     "output_type": "stream",
     "text": [
      "Bottom Right\n"
     ]
    }
   ],
   "source": [
    "print(executor(scene, program))"
   ]
  },
  {
   "cell_type": "code",
   "execution_count": null,
   "metadata": {},
   "outputs": [],
   "source": []
  }
 ],
 "metadata": {
  "interpreter": {
   "hash": "1e8aee051e696617c689574faeab95fa27d89387237153c0e201e7945bab342c"
  },
  "kernelspec": {
   "display_name": "Python 3.10.0 ('NSAI_env')",
   "language": "python",
   "name": "python3"
  },
  "language_info": {
   "codemirror_mode": {
    "name": "ipython",
    "version": 3
   },
   "file_extension": ".py",
   "mimetype": "text/x-python",
   "name": "python",
   "nbconvert_exporter": "python",
   "pygments_lexer": "ipython3",
   "version": "3.10.0"
  },
  "orig_nbformat": 4
 },
 "nbformat": 4,
 "nbformat_minor": 2
}
